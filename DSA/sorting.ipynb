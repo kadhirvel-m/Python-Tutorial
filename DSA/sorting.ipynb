{
 "cells": [
  {
   "cell_type": "markdown",
   "metadata": {},
   "source": [
    "# Sorting"
   ]
  },
  {
   "cell_type": "markdown",
   "metadata": {},
   "source": [
    "__________"
   ]
  },
  {
   "cell_type": "markdown",
   "metadata": {},
   "source": [
    "### DSA Quicksort"
   ]
  },
  {
   "cell_type": "markdown",
   "metadata": {},
   "source": [
    "<span style=\"font-size: 14px;\">\n",
    "\n",
    "##### Given Array:\n",
    "`[ 5, 3, 8, 4, 2, 7, 1, 10 ]`\n",
    "\n",
    "\n",
    "##### Step 1: Choose a Pivot (Middle Element → `4`)\n",
    "\n",
    "- **Left:** `[ 3, 2, 1 ]` (Elements `< 4`)\n",
    "- **Middle:** `[ 4 ]` (Pivot)\n",
    "- **Right:** `[ 5, 8, 7, 10 ]` (Elements `> 4`)\n",
    "- **New Order:** `[ 3, 2, 1 ] + [ 4 ] + [ 5, 8, 7, 10 ]`\n",
    "\n",
    "\n",
    "##### Step 2: Recursively Sort Left `[ 3, 2, 1 ]`\n",
    "\n",
    "#### Pivot: `2`\n",
    "- **Left:** `[ 1 ]`\n",
    "- **Middle:** `[ 2 ]`\n",
    "- **Right:** `[ 3 ]`\n",
    "- **Sorted Left:** `[ 1, 2, 3 ]`\n",
    "\n",
    "\n",
    "##### Step 3: Recursively Sort Right `[ 5, 8, 7, 10 ]`\n",
    "\n",
    "##### Pivot: `7`\n",
    "- **Left:** `[ 5 ]`\n",
    "- **Middle:** `[ 7 ]`\n",
    "- **Right:** `[ 8, 10 ]`\n",
    "- **Sorted Right:** `[ 5, 7, 8, 10 ]`\n",
    "\n",
    "##### 🎉 Final Sorted Array:\n",
    "`[ 1, 2, 3 ] + [ 4 ] + [ 5, 7, 8, 10 ]`  \n",
    "➡ **`[ 1, 2, 3, 4, 5, 7, 8, 10 ]`** 🚀\n",
    "</span>"
   ]
  },
  {
   "cell_type": "markdown",
   "metadata": {},
   "source": [
    "_______"
   ]
  },
  {
   "cell_type": "code",
   "execution_count": 1,
   "metadata": {},
   "outputs": [
    {
     "name": "stdout",
     "output_type": "stream",
     "text": [
      "[1, 2, 3, 4, 5, 7, 8, 10]\n"
     ]
    }
   ],
   "source": [
    "def quick_sort(arr):\n",
    "    if len(arr) <= 1:\n",
    "        return arr\n",
    "    pivot = arr[len(arr) // 2]\n",
    "    left = [x for x in arr if x < pivot]\n",
    "    middle = [x for x in arr if x == pivot]\n",
    "    right = [x for x in arr if x > pivot]\n",
    "    return quick_sort(left) + middle + quick_sort(right)\n",
    "\n",
    "arr = [5, 3, 8, 4, 2, 7, 1, 10]\n",
    "print(quick_sort(arr)) "
   ]
  },
  {
   "cell_type": "markdown",
   "metadata": {},
   "source": [
    "___"
   ]
  },
  {
   "cell_type": "markdown",
   "metadata": {},
   "source": [
    "### DSA Selection Sort"
   ]
  },
  {
   "cell_type": "markdown",
   "metadata": {},
   "source": [
    "<span style=\"font-size: 14px;\">\n",
    "\n",
    "##### **Step 1:** Start with index `0`.\n",
    "`[ 7, 12, 9, 11, 3 ]`\n",
    "\n",
    "##### Step 3: Swap  **3** and **7** \n",
    "`[ 3, 7, 12, 9, 11 ]`\n",
    "\n",
    "##### **Step 4:** Find the next lowest value starting from index `1`.\n",
    "`[ 3, 7, 12, 9, 11 ]`\n",
    "\n",
    "##### **Step 5:** Find the next lowest value starting from index `2`.\n",
    "`[ 3, 7, 12, 9, 11 ]`\n",
    "\n",
    "##### **Step 6:** Swap **9** and **12**.\n",
    "`[ 3, 7, 9, 12, 11 ]`\n",
    "\n",
    "##### **Step 7:** Find the next lowest value starting from index `3`.\n",
    "`[ 3, 7, 9, 12, 11 ]`\n",
    "\n",
    "##### **Step 8:** Swap **11** and **12**.\n",
    "`[ 3, 7, 9, 11, 12 ]`\n",
    "\n",
    "##### 🎉 Final Sorted Array:\n",
    "`[ 3, 7, 9, 11, 12 ]`\n",
    "\n",
    "<!-- <span> -->"
   ]
  },
  {
   "cell_type": "markdown",
   "metadata": {},
   "source": [
    "_____"
   ]
  },
  {
   "cell_type": "code",
   "execution_count": 2,
   "metadata": {},
   "outputs": [
    {
     "name": "stdout",
     "output_type": "stream",
     "text": [
      "[1, 1, 2, 5, 5, 6, 6, 9]\n"
     ]
    }
   ],
   "source": [
    "def selection_sort(arr):\n",
    "    n = 0\n",
    "    for _ in arr:\n",
    "        n += 1\n",
    "    for i in range(n-1):\n",
    "        min_index = i\n",
    "        for j in range(i+1,n):\n",
    "            if arr[j]<arr[min_index]:\n",
    "                min_index=j\n",
    "        arr[i],arr[min_index] = arr[min_index],arr[i]\n",
    "    return arr\n",
    "arr = [5,2,9,1,5,6,1,6]\n",
    "print(selection_sort(arr))"
   ]
  }
 ],
 "metadata": {
  "kernelspec": {
   "display_name": "Python 3",
   "language": "python",
   "name": "python3"
  },
  "language_info": {
   "codemirror_mode": {
    "name": "ipython",
    "version": 3
   },
   "file_extension": ".py",
   "mimetype": "text/x-python",
   "name": "python",
   "nbconvert_exporter": "python",
   "pygments_lexer": "ipython3",
   "version": "3.12.9"
  }
 },
 "nbformat": 4,
 "nbformat_minor": 2
}
