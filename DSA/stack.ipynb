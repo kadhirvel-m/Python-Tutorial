{
 "cells": [
  {
   "cell_type": "markdown",
   "metadata": {},
   "source": [
    "# Stacks\n",
    "_______\n",
    "A stack is a data structure that can hold many elements.\n",
    "\n",
    "<img src=\"../img/stack.png\" alt=\"Stack\" width=\"400\">\n",
    "\n",
    "Basic operations we can do on a stack are:\n",
    "- Push: Adds a new element on the stack.\n",
    "- Pop: Removes and returns the top element from the stack.\n",
    "- Peek: Returns the top element on the stack.\n",
    "- isEmpty: Checks if the stack is empty.\n",
    "- Size: Finds the number of elements in the stack.\n"
   ]
  },
  {
   "cell_type": "markdown",
   "metadata": {},
   "source": [
    "____________"
   ]
  },
  {
   "cell_type": "markdown",
   "metadata": {},
   "source": [
    "#### Stack Implementation using Arrays"
   ]
  },
  {
   "cell_type": "markdown",
   "metadata": {},
   "source": [
    "- Reasons to implement stacks using arrays:\n",
    "    - **Memory Efficient:** Array elements do not hold the next elements address like linked list nodes do.\n",
    "    - **Easier to implement and understand:** \n",
    "\n",
    "- Reason for not using arrays to implement stacks:\n",
    "    - **Fixed size:** An array occupies a fixed part of the memory. This means that it could take up more memory than needed, or if the array fills up, it cannot hold more elements.\n"
   ]
  },
  {
   "cell_type": "code",
   "execution_count": 74,
   "metadata": {},
   "outputs": [
    {
     "name": "stdout",
     "output_type": "stream",
     "text": [
      "Stack:  ['A', 'B', 'C']\n"
     ]
    }
   ],
   "source": [
    "stack = []\n",
    "\n",
    "# Push\n",
    "stack.append('A')\n",
    "stack.append('B')\n",
    "stack.append('C')\n",
    "print(\"Stack: \", stack)"
   ]
  },
  {
   "cell_type": "code",
   "execution_count": 75,
   "metadata": {},
   "outputs": [
    {
     "name": "stdout",
     "output_type": "stream",
     "text": [
      "Stack:  ['A', 'B']\n"
     ]
    }
   ],
   "source": [
    "# Pop\n",
    "element = stack.pop()\n",
    "print(\"Stack: \", stack)"
   ]
  },
  {
   "cell_type": "code",
   "execution_count": 76,
   "metadata": {},
   "outputs": [
    {
     "name": "stdout",
     "output_type": "stream",
     "text": [
      "Peek:  B\n"
     ]
    }
   ],
   "source": [
    "# Peek\n",
    "topElement = stack[1]\n",
    "print(\"Peek: \", topElement)"
   ]
  },
  {
   "cell_type": "code",
   "execution_count": 77,
   "metadata": {},
   "outputs": [
    {
     "name": "stdout",
     "output_type": "stream",
     "text": [
      "isEmpty:  False\n"
     ]
    }
   ],
   "source": [
    "# isEmpty\n",
    "isEmpty = not bool(stack)\n",
    "print(\"isEmpty: \", isEmpty)"
   ]
  },
  {
   "cell_type": "code",
   "execution_count": 78,
   "metadata": {},
   "outputs": [
    {
     "name": "stdout",
     "output_type": "stream",
     "text": [
      "Size:  2\n"
     ]
    }
   ],
   "source": [
    "\n",
    "# Size\n",
    "print(\"Size: \",len(stack))"
   ]
  },
  {
   "cell_type": "markdown",
   "metadata": {},
   "source": [
    "________"
   ]
  },
  {
   "cell_type": "markdown",
   "metadata": {},
   "source": [
    "#### Stack Implementation using Linked Lists\n",
    "- A reason for using linked lists to implement stacks:\n",
    "    - Dynamic size: The stack can grow and shrink dynamically, unlike with arrays.\n",
    "\n",
    "- Reasons for not using linked lists to implement stacks:\n",
    "    - Extra memory: Each stack element must contain the address to the next element (the next linked list node).\n",
    "    - Readability: The code might be harder to read and write for some because it is longer and more complex."
   ]
  },
  {
   "cell_type": "code",
   "execution_count": 80,
   "metadata": {},
   "outputs": [
    {
     "name": "stdout",
     "output_type": "stream",
     "text": [
      "Pop:  C\n",
      "Peek:  B\n",
      "isEmpty:  False\n",
      "Size:  2\n"
     ]
    }
   ],
   "source": [
    "class Node:\n",
    "    def __init__(self, value):\n",
    "        self.value = value\n",
    "        self.next = None\n",
    "\n",
    "class Stack:\n",
    "    def __init__(self):\n",
    "        self.head = None\n",
    "        self.size = 0\n",
    "    \n",
    "    def push(self, value):\n",
    "        new_node = Node(value)\n",
    "        if self.head:\n",
    "            new_node.next = self.head\n",
    "        self.head = new_node\n",
    "        self.size += 1\n",
    "    \n",
    "    def pop(self):\n",
    "        if self.isEmpty():\n",
    "            return \"Stack is empty\"\n",
    "        popped_node = self.head\n",
    "        self.head = self.head.next\n",
    "        self.size -= 1\n",
    "        return popped_node.value\n",
    "    \n",
    "    def peek(self):\n",
    "        if self.isEmpty():\n",
    "            return \"Stack is empty\"\n",
    "        return self.head.value\n",
    "    \n",
    "    def isEmpty(self):\n",
    "        return self.size == 0\n",
    "    \n",
    "    def stackSize(self):\n",
    "        return self.size\n",
    "\n",
    "myStack = Stack()\n",
    "myStack.push('A')\n",
    "myStack.push('B')\n",
    "myStack.push('C')\n",
    "\n",
    "print(\"Pop: \", myStack.pop())\n",
    "print(\"Peek: \", myStack.peek())\n",
    "print(\"isEmpty: \", myStack.isEmpty())\n",
    "print(\"Size: \", myStack.stackSize())"
   ]
  }
 ],
 "metadata": {
  "kernelspec": {
   "display_name": "Python 3",
   "language": "python",
   "name": "python3"
  },
  "language_info": {
   "codemirror_mode": {
    "name": "ipython",
    "version": 3
   },
   "file_extension": ".py",
   "mimetype": "text/x-python",
   "name": "python",
   "nbconvert_exporter": "python",
   "pygments_lexer": "ipython3",
   "version": "3.12.9"
  }
 },
 "nbformat": 4,
 "nbformat_minor": 2
}
