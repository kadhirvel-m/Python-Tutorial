{
 "cells": [
  {
   "cell_type": "markdown",
   "metadata": {},
   "source": [
    "# Searching"
   ]
  },
  {
   "cell_type": "markdown",
   "metadata": {},
   "source": [
    "______"
   ]
  },
  {
   "cell_type": "markdown",
   "metadata": {},
   "source": [
    "## DSA Linear Search\n",
    "- Best Case: O(1) (Element found at the first)\n",
    "- Worst: O(n)"
   ]
  },
  {
   "cell_type": "markdown",
   "metadata": {},
   "source": [
    "<span style=\"font-size: 14px;\">\n",
    "\n",
    "##### **Step 1:** Start with an array of random values.\n",
    "`[ 12, 8, 9, 11, 5, 11 ]`\n",
    "\n",
    "##### **Step 2:** Check the first value (index `0`).\n",
    "Is `12` equal to `11`? ❌  \n",
    "`[ 12, 8, 9, 11, 5, 11 ]`\n",
    "\n",
    "##### **Step 3:** Move to the next value (index `1`).\n",
    "Is `8` equal to `11`? ❌  \n",
    "`[ 12, 8, 9, 11, 5, 11 ]`\n",
    "\n",
    "##### **Step 4:** Check the next value (index `2`).\n",
    "Is `9` equal to `11`? ❌  \n",
    "`[ 12, 8, 9, 11, 5, 11 ]`\n",
    "\n",
    "##### **Step 5:** Move to the next value (index `3`).\n",
    "Is `11` equal to `11`? ✅ **Yes!**  \n",
    "`[ 12, 8, 9, 11, 5, 11 ]`\n",
    "\n",
    "##### 🎉 Value `11` is found at **index 3**.\n",
    "\n",
    "Returning **index position 3**.\n",
    "</span>"
   ]
  },
  {
   "cell_type": "markdown",
   "metadata": {},
   "source": [
    "_____"
   ]
  },
  {
   "cell_type": "code",
   "execution_count": 1,
   "metadata": {},
   "outputs": [
    {
     "name": "stdout",
     "output_type": "stream",
     "text": [
      "4\n"
     ]
    }
   ],
   "source": [
    "def linear_search(arr,value):\n",
    "    for i in range(len(arr)):\n",
    "        if arr[i] == value:\n",
    "            return i\n",
    "    return -1\n",
    "arr = [1,5,3,1,4,6,7,9]\n",
    "print(linear_search(arr,4))"
   ]
  },
  {
   "cell_type": "markdown",
   "metadata": {},
   "source": [
    "_________"
   ]
  },
  {
   "cell_type": "markdown",
   "metadata": {},
   "source": [
    "## DSA Binary Search\n",
    "- Best Case: O(1) (Element found at the middle)\n",
    "- Worst/Average Case: O(log n) (Efficient compared to linear search)"
   ]
  },
  {
   "cell_type": "markdown",
   "metadata": {},
   "source": [
    "<span style=\"font-size: 14px;\">\n",
    "\n",
    "##### Step 1: Start with a sorted array.\n",
    "`[ 2, 3, 7, 7, 11, 15, 25 ]`\n",
    "\n",
    "##### Step 2: Check the middle value at index `3`.\n",
    "Is `7` equal to `11`? ❌  \n",
    "`[ 2, 3, 7, 7, 11, 15, 25 ]`\n",
    "\n",
    "##### Step 3: Since `7 < 11`, search **to the right** of index `3`.  \n",
    "New search range: `[ 11, 15, 25 ]`  \n",
    "Next middle value: `15` (at index `5`).  \n",
    "`[ 2, 3, 7, 7, 11, 15, 25 ]`\n",
    "\n",
    "##### Step 4: `15 > 11`, so search **to the left** of index `5`.  \n",
    "New search range: `[ 11 ]` (index `4`).  \n",
    "`[ 2, 3, 7, 7, 11, 15, 25 ]`\n",
    "\n",
    "##### 🎉 Value `11` is found at **index 4**.\n",
    "\n",
    "Returning **index position 4**.\n",
    "</span>"
   ]
  },
  {
   "cell_type": "markdown",
   "metadata": {},
   "source": [
    "___________"
   ]
  },
  {
   "cell_type": "code",
   "execution_count": 2,
   "metadata": {},
   "outputs": [
    {
     "name": "stdout",
     "output_type": "stream",
     "text": [
      "4\n"
     ]
    }
   ],
   "source": [
    "def binary_search(arr, value):\n",
    "    left, right = 0, len(arr) - 1\n",
    "    while left <= right:\n",
    "        mid = (left + right) // 2\n",
    "        if arr[mid] == value:\n",
    "            return mid\n",
    "        elif arr[mid] < value:\n",
    "            left = mid + 1\n",
    "        else:\n",
    "            right = mid - 1\n",
    "    return -1\n",
    "\n",
    "arr = [10, 20, 30, 40, 50]\n",
    "print(binary_search(arr, 50))  "
   ]
  }
 ],
 "metadata": {
  "kernelspec": {
   "display_name": "Python 3",
   "language": "python",
   "name": "python3"
  },
  "language_info": {
   "codemirror_mode": {
    "name": "ipython",
    "version": 3
   },
   "file_extension": ".py",
   "mimetype": "text/x-python",
   "name": "python",
   "nbconvert_exporter": "python",
   "pygments_lexer": "ipython3",
   "version": "3.12.9"
  }
 },
 "nbformat": 4,
 "nbformat_minor": 2
}
