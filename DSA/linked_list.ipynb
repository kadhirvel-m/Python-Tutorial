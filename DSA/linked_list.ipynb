{
 "cells": [
  {
   "cell_type": "markdown",
   "metadata": {},
   "source": [
    "# Linked List"
   ]
  },
  {
   "cell_type": "markdown",
   "metadata": {},
   "source": [
    "_______"
   ]
  },
  {
   "cell_type": "markdown",
   "metadata": {},
   "source": [
    "#### Understanding Linked List in Python\n",
    "\n",
    "A Linked List is a linear data structure where each element (node) is connected to the next one using pointers. Unlike arrays, linked lists do not require contiguous memory allocation.\n",
    "\n",
    "##### Components of a Linked List\n",
    "\n",
    "![Linked List Diagram](../img/linked_list.svg)\n",
    "\n",
    "- **Node**: Stores data and a reference (pointer) to the next node.  \n",
    "- **LinkedList**: Manages nodes and provides operations like insertion, deletion, and traversal.  \n",
    "\n",
    "#### Code Breakdown  \n",
    "\n",
    "##### Step 1: Define the Node Class  \n",
    "\n",
    "```python\n",
    "class Node:\n",
    "    def __init__(self, data):\n",
    "        self.data = data  # Store the data\n",
    "        self.next = None  # Pointer to the next node (Initially None)\n",
    "```\n",
    "\n",
    "Each node has:  \n",
    "- `data` → Stores the value.  \n",
    "- `next` → Pointer to the next node in the list.  \n",
    "\n",
    "##### Step 2: Define the LinkedList Class  \n",
    "\n",
    "```python\n",
    "class LinkedList:\n",
    "    def __init__(self):\n",
    "        self.head = None  # Initially, the list is empty\n",
    "```\n",
    "\n",
    "- `head` stores the reference to the first node.  \n",
    "- If `head = None`, the list is empty.  \n",
    "\n",
    "##### Step 3: Append a New Node  \n",
    "\n",
    "```python\n",
    "def append(self, data):\n",
    "    new_node = Node(data)  # Create a new node\n",
    "    if not self.head:  # If list is empty, set new node as head\n",
    "        self.head = new_node\n",
    "        return\n",
    "    temp = self.head\n",
    "    while temp.next:  # Traverse to the last node\n",
    "        temp = temp.next\n",
    "    temp.next = new_node  # Add new node at the end\n",
    "```\n",
    "\n",
    "- Creates a new node and adds it at the end of the list.  \n",
    "\n",
    "##### Step 4: Display the Linked List  \n",
    "\n",
    "```python\n",
    "def display(self):\n",
    "    temp = self.head\n",
    "    while temp:  # Traverse the list\n",
    "        print(temp.data, end=\" -> \")\n",
    "        temp = temp.next\n",
    "    print(\"None\")  # End of the list\n",
    "```\n",
    "\n",
    "- Starts from `head` and prints each node’s value until reaching `None`.  \n",
    "\n",
    "##### Step 5: Testing the Linked List  \n",
    "\n",
    "```python\n",
    "# Create LinkedList object\n",
    "ll = LinkedList()\n",
    "ll.append(1)\n",
    "ll.append(2)\n",
    "ll.append(3)\n",
    "ll.display()\n",
    "```\n",
    "\n",
    "##### Output:  \n",
    "```\n",
    "1 -> 2 -> 3 -> None\n",
    "```\n",
    "\n",
    "- `append(1)` → Adds `1` as the first node.  \n",
    "- `append(2)` → Adds `2` at the end.  \n",
    "- `append(3)` → Adds `3` at the end.  \n",
    "- `display()` → Prints the list.  \n",
    "\n",
    "##### Summary  \n",
    "\n",
    "- A **Linked List** consists of nodes connected using pointers.  \n",
    "- **Head** points to the first node.  \n",
    "- **Appending** adds a new node at the end.  \n",
    "- **Traversing** allows displaying all nodes.  \n",
    "```"
   ]
  },
  {
   "cell_type": "markdown",
   "metadata": {},
   "source": [
    "_____"
   ]
  },
  {
   "cell_type": "code",
   "execution_count": 2,
   "metadata": {},
   "outputs": [
    {
     "name": "stdout",
     "output_type": "stream",
     "text": [
      "1 -> 2 -> 3 -> None\n"
     ]
    }
   ],
   "source": [
    "class Node:\n",
    "    def __init__(self, data):\n",
    "        self.data = data\n",
    "        self.next = None\n",
    "\n",
    "class LinkedList:\n",
    "    def __init__(self):\n",
    "        self.head = None\n",
    "\n",
    "    def append(self, data):\n",
    "        new_node = Node(data)\n",
    "        if not self.head:\n",
    "            self.head = new_node\n",
    "            return\n",
    "        temp = self.head\n",
    "        while temp.next:\n",
    "            temp = temp.next\n",
    "        temp.next = new_node\n",
    "\n",
    "    def display(self):\n",
    "        temp = self.head\n",
    "        while temp:\n",
    "            print(temp.data, end=\" -> \")\n",
    "            temp = temp.next\n",
    "        print(\"None\")\n",
    "\n",
    "ll = LinkedList()\n",
    "ll.append(1)\n",
    "ll.append(2)\n",
    "ll.append(3)\n",
    "ll.display()\n"
   ]
  }
 ],
 "metadata": {
  "kernelspec": {
   "display_name": "Python 3",
   "language": "python",
   "name": "python3"
  },
  "language_info": {
   "codemirror_mode": {
    "name": "ipython",
    "version": 3
   },
   "file_extension": ".py",
   "mimetype": "text/x-python",
   "name": "python",
   "nbconvert_exporter": "python",
   "pygments_lexer": "ipython3",
   "version": "3.12.9"
  }
 },
 "nbformat": 4,
 "nbformat_minor": 2
}
