{
 "cells": [
  {
   "cell_type": "markdown",
   "metadata": {},
   "source": [
    "## Introduction to Data Structures and Algorithms"
   ]
  },
  {
   "cell_type": "markdown",
   "metadata": {},
   "source": [
    "- Data Structures is about how data can be stored in different structures.\n",
    "- Algorithms is about how to solve different problems, often by searching through and manipulating data structures."
   ]
  },
  {
   "cell_type": "markdown",
   "metadata": {},
   "source": [
    "##### Where is Data Structures and Algorithms Needed?"
   ]
  },
  {
   "cell_type": "markdown",
   "metadata": {},
   "source": [
    "- For managing large amounts of data, such as in a social network or a search engine.\n",
    "- For scheduling tasks, to decide which task a computer should do first.\n",
    "- For planning routes, like in a GPS system to find the shortest path from A to B.\n",
    "- For optimizing processes, such as arranging tasks so they can be completed as quickly as possible.\n",
    "- For solving complex problems: From finding the best way to pack a truck to making a computer 'learn' from data."
   ]
  },
  {
   "cell_type": "markdown",
   "metadata": {},
   "source": [
    "##### Theory and Terminology"
   ]
  },
  {
   "cell_type": "markdown",
   "metadata": {},
   "source": [
    "##### Algorithm Concepts\n",
    "\n",
    "<span style=\"font-size: 14px;\">\n",
    "\n",
    "| Term              | Description |\n",
    "|-------------------|------------|\n",
    "| **Algorithm**     | A set of step-by-step instructions to solve a specific problem. |\n",
    "| **Data Structure** | A way of organizing data so it can be used efficiently. Common data structures include arrays, linked lists, and binary trees. |\n",
    "| **Time Complexity** | A measure of the amount of time an algorithm takes to run, depending on the amount of data the algorithm is working on. |\n",
    "| **Space Complexity** | A measure of the amount of memory an algorithm uses, depending on the amount of data the algorithm is working on. |\n",
    "| **Big O Notation** | A mathematical notation that describes the limiting behavior of a function when the argument tends towards a particular value or infinity. Used in this tutorial to describe the time complexity of an algorithm. |\n",
    "| **Recursion** | A programming technique where a function calls itself. |\n",
    "| **Divide and Conquer** | A method of solving complex problems by breaking them into smaller, more manageable sub-problems, solving the sub-problems, and combining the solutions. Recursion is often used when using this method in an algorithm. |\n",
    "| **Brute Force** | A simple and straightforward way an algorithm can work by simply trying all possible solutions and then choosing the best one. |\n",
    "\n",
    "</span>\n"
   ]
  }
 ],
 "metadata": {
  "kernelspec": {
   "display_name": "Python 3",
   "language": "python",
   "name": "python3"
  },
  "language_info": {
   "codemirror_mode": {
    "name": "ipython",
    "version": 3
   },
   "file_extension": ".py",
   "mimetype": "text/x-python",
   "name": "python",
   "nbconvert_exporter": "python",
   "pygments_lexer": "ipython3",
   "version": "3.12.9"
  }
 },
 "nbformat": 4,
 "nbformat_minor": 2
}
