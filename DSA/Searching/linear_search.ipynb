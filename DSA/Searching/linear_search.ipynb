{
 "cells": [
  {
   "cell_type": "markdown",
   "metadata": {},
   "source": [
    "## DSA Linear Search\n",
    "The Linear Search algorithm searches through an array and returns the index of the value it searches for."
   ]
  },
  {
   "cell_type": "markdown",
   "metadata": {},
   "source": [
    "## Manual Run Through of Linear Search\n",
    "\n",
    "##### **Step 1:** Start with an array of random values.\n",
    "`[ 12, 8, 9, 11, 5, 11 ]`\n",
    "\n",
    "##### **Step 2:** Check the first value (index `0`).\n",
    "Is `12` equal to `11`? ❌  \n",
    "`[ 12, 8, 9, 11, 5, 11 ]`\n",
    "\n",
    "##### **Step 3:** Move to the next value (index `1`).\n",
    "Is `8` equal to `11`? ❌  \n",
    "`[ 12, 8, 9, 11, 5, 11 ]`\n",
    "\n",
    "##### **Step 4:** Check the next value (index `2`).\n",
    "Is `9` equal to `11`? ❌  \n",
    "`[ 12, 8, 9, 11, 5, 11 ]`\n",
    "\n",
    "##### **Step 5:** Move to the next value (index `3`).\n",
    "Is `11` equal to `11`? ✅ **Yes!**  \n",
    "`[ 12, 8, 9, 11, 5, 11 ]`\n",
    "\n",
    "##### 🎉 Value `11` is found at **index 3**.\n",
    "\n",
    "Returning **index position 3**.\n"
   ]
  },
  {
   "cell_type": "code",
   "execution_count": 3,
   "metadata": {},
   "outputs": [
    {
     "name": "stdout",
     "output_type": "stream",
     "text": [
      "4\n"
     ]
    }
   ],
   "source": [
    "def linear_search(arr,value):\n",
    "    for i in range(len(arr)):\n",
    "        if arr[i] == value:\n",
    "            return i\n",
    "    return -1\n",
    "arr = [1,5,3,1,4,6,7,9]\n",
    "print(linear_search(arr,4))"
   ]
  }
 ],
 "metadata": {
  "kernelspec": {
   "display_name": "Python 3",
   "language": "python",
   "name": "python3"
  },
  "language_info": {
   "codemirror_mode": {
    "name": "ipython",
    "version": 3
   },
   "file_extension": ".py",
   "mimetype": "text/x-python",
   "name": "python",
   "nbconvert_exporter": "python",
   "pygments_lexer": "ipython3",
   "version": "3.12.9"
  }
 },
 "nbformat": 4,
 "nbformat_minor": 2
}
