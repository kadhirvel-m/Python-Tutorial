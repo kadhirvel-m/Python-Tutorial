{
 "cells": [
  {
   "cell_type": "markdown",
   "metadata": {},
   "source": [
    "## DSA Selection Sort"
   ]
  },
  {
   "cell_type": "markdown",
   "metadata": {},
   "source": [
    "Before we implement the Selection Sort algorithm in a programming language, let's manually run through a short array only one time, just to get the idea.\n",
    "\n",
    "##### **Step 1:** Start with index `0`.\n",
    "`[ 7, 12, 9, 11, 3 ]`\n",
    "\n",
    "##### Step 3: Swap  **3** and **7** \n",
    "`[ 3, 7, 12, 9, 11 ]`\n",
    "\n",
    "##### **Step 4:** Find the next lowest value starting from index `1`.\n",
    "`[ 3, 7, 12, 9, 11 ]`\n",
    "\n",
    "##### **Step 5:** Find the next lowest value starting from index `2`.\n",
    "`[ 3, 7, 12, 9, 11 ]`\n",
    "\n",
    "##### **Step 6:** Swap **9** and **12**.\n",
    "`[ 3, 7, 9, 12, 11 ]`\n",
    "\n",
    "##### **Step 7:** Find the next lowest value starting from index `3`.\n",
    "`[ 3, 7, 9, 12, 11 ]`\n",
    "\n",
    "##### **Step 8:** Swap **11** and **12**.\n",
    "`[ 3, 7, 9, 11, 12 ]`\n",
    "\n",
    "##### 🎉 Final Sorted Array:\n",
    "`[ 3, 7, 9, 11, 12 ]`\n",
    "\n"
   ]
  },
  {
   "cell_type": "code",
   "execution_count": 9,
   "metadata": {},
   "outputs": [
    {
     "name": "stdout",
     "output_type": "stream",
     "text": [
      "[1, 1, 2, 5, 5, 6, 6, 9]\n"
     ]
    }
   ],
   "source": [
    "def selection_sort(arr):\n",
    "    n = 0\n",
    "    for _ in arr:\n",
    "        n += 1\n",
    "    for i in range(n-1):\n",
    "        min_index = i\n",
    "        for j in range(i+1,n):\n",
    "            if arr[j]<arr[min_index]:\n",
    "                min_index=j\n",
    "        arr[i],arr[min_index] = arr[min_index],arr[i]\n",
    "    return arr\n",
    "arr = [5,2,9,1,5,6,1,6]\n",
    "print(selection_sort(arr))"
   ]
  }
 ],
 "metadata": {
  "kernelspec": {
   "display_name": "Python 3",
   "language": "python",
   "name": "python3"
  },
  "language_info": {
   "codemirror_mode": {
    "name": "ipython",
    "version": 3
   },
   "file_extension": ".py",
   "mimetype": "text/x-python",
   "name": "python",
   "nbconvert_exporter": "python",
   "pygments_lexer": "ipython3",
   "version": "3.12.9"
  }
 },
 "nbformat": 4,
 "nbformat_minor": 2
}
