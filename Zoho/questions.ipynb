{
 "cells": [
  {
   "cell_type": "markdown",
   "id": "d110010b",
   "metadata": {},
   "source": [
    "Write a function count_heads(N, R) that returns the probability of getting exactly R heads in N tosses of a fair coin."
   ]
  },
  {
   "cell_type": "code",
   "execution_count": null,
   "id": "53fb72d5",
   "metadata": {},
   "outputs": [
    {
     "name": "stdout",
     "output_type": "stream",
     "text": [
      "0.375\n"
     ]
    }
   ],
   "source": [
    "def comb(n, r):\n",
    "    if r == 0:\n",
    "        return 1.0\n",
    "    return n * comb(n - 1, r - 1) / r\n",
    "\n",
    "def count_heads():\n",
    "    n = int(input(\"Enter N (no. of tosses): \"))\n",
    "    r = int(input(\"Enter R (no. of heads): \"))\n",
    "    probability = comb(n, r) / (1 << n)  # (1 << n) is 2^n\n",
    "    print(probability)\n",
    "\n",
    "count_heads()"
   ]
  },
  {
   "cell_type": "markdown",
   "id": "1b0c143a",
   "metadata": {},
   "source": [
    "___________\n",
    "Write a program to remove vowels from a string. If two or more vowels occur together, ignore all of them."
   ]
  },
  {
   "cell_type": "code",
   "execution_count": 32,
   "id": "bd5f579a",
   "metadata": {},
   "outputs": [
    {
     "name": "stdout",
     "output_type": "stream",
     "text": [
      "beautfl\n",
      "look\n",
      "Cmpuutr\n"
     ]
    }
   ],
   "source": [
    "def remove_vowels(s):\n",
    "    vowels = \"aeiouAEIOU\"\n",
    "    result = []\n",
    "    i, n = 0, len(s)\n",
    "    while i < n:\n",
    "        #beautiful\n",
    "        if s[i] in vowels:\n",
    "            start = i\n",
    "            while i < n and s[i] in vowels:\n",
    "                i += 1\n",
    "            if i - start > 1:\n",
    "                result.append(s[start:i])\n",
    "        else:\n",
    "            result.append(s[i])\n",
    "            i += 1\n",
    "    return \"\".join(result)\n",
    "\n",
    "print(remove_vowels(\"beautiful\"))  # Output: beaultfl\n",
    "print(remove_vowels(\"look\"))       # Output: look  (because \"oo\" is a group)\n",
    "print(remove_vowels(\"Compuuter\"))      # Output: ppl    (\"a\" single vowel removed, \"e\" single vowel removed)\n"
   ]
  },
  {
   "cell_type": "code",
   "execution_count": null,
   "id": "2d0ea7b5",
   "metadata": {},
   "outputs": [
    {
     "name": "stdout",
     "output_type": "stream",
     "text": [
      "Hll\n"
     ]
    }
   ],
   "source": [
    "def is_vowel(char):\n",
    "    vowels = ['a','e','i','o','u','A', 'E', 'I', 'O', 'U']\n",
    "    arr = []\n",
    "    for i in char:\n",
    "        if i not in vowels:\n",
    "            arr.append(i)\n",
    "    print(\"\".join(arr))\n",
    "is_vowel(\"Hello\")"
   ]
  },
  {
   "cell_type": "markdown",
   "id": "67d84063",
   "metadata": {},
   "source": [
    "________________________\n",
    "Check if every left parenthesis has a matching right parenthesis."
   ]
  },
  {
   "cell_type": "code",
   "execution_count": 3,
   "id": "8211a80e",
   "metadata": {},
   "outputs": [
    {
     "name": "stdout",
     "output_type": "stream",
     "text": [
      "Balanced\n"
     ]
    }
   ],
   "source": [
    "def balanced(str):\n",
    "    counter = 0\n",
    "    for i in str:\n",
    "        if i == '(':\n",
    "            counter += 1\n",
    "        elif i == ')':\n",
    "            counter -= 1\n",
    "    print(\"Balanced\" if counter == 0 else \"Not-Balanced\")\n",
    "str = input()\n",
    "balanced(str)"
   ]
  },
  {
   "cell_type": "markdown",
   "id": "4001b25a",
   "metadata": {},
   "source": [
    "_______________________"
   ]
  },
  {
   "cell_type": "code",
   "execution_count": null,
   "id": "56b7da2e",
   "metadata": {},
   "outputs": [
    {
     "name": "stdout",
     "output_type": "stream",
     "text": [
      "world\n",
      "this \n"
     ]
    }
   ],
   "source": [
    "def count_occurrences(text, word):\n",
    "    count = 0\n",
    "    start = 0\n",
    "    while True:\n",
    "        pos = text.find(word, start)\n",
    "        if pos == -1:\n",
    "            break\n",
    "        count += 1\n",
    "        start = pos + len(word)\n",
    "    return count\n",
    "\n",
    "def sort_texts_by_word_occurrences(texts, word):\n",
    "    return sorted(texts, key=lambda text: count_occurrences(text, word))\n",
    "\n",
    "M = int(input(\"Enter number of texts: \"))\n",
    "word = input(\"Enter the word to count: \")\n",
    "\n",
    "texts = []\n",
    "for _ in range(M):\n",
    "    texts.append(input())\n",
    "\n",
    "sorted_texts = sort_texts_by_word_occurrences(texts, word)\n",
    "\n",
    "for text in sorted_texts:\n",
    "    print(text)\n"
   ]
  },
  {
   "cell_type": "markdown",
   "id": "7baabb5b",
   "metadata": {},
   "source": [
    "______________"
   ]
  },
  {
   "cell_type": "code",
   "execution_count": 47,
   "id": "2a2f985d",
   "metadata": {},
   "outputs": [
    {
     "name": "stdout",
     "output_type": "stream",
     "text": [
      "[3, 8, 4, 6]\n",
      "[5, 2, 1, 7]\n",
      "[1, 8, 2, 6, 5, 4, 7, 3]\n"
     ]
    }
   ],
   "source": [
    "def sort_odd_even_indices(arr):\n",
    "    # Extract elements at even and odd indices\n",
    "    even_elements = [arr[i] for i in range(0, len(arr), 2)]\n",
    "    odd_elements = [arr[i] for i in range(1, len(arr), 2)]\n",
    "\n",
    "    print(odd_elements)\n",
    "    print(even_elements)\n",
    "\n",
    "    # Sort even indices ascending and odd indices descending\n",
    "    even_elements.sort()\n",
    "    odd_elements.sort(reverse=True)\n",
    "\n",
    "    # Merge back into result array\n",
    "    result = []\n",
    "    even_idx, odd_idx = 0, 0\n",
    "    for i in range(len(arr)):\n",
    "        if i % 2 == 0:\n",
    "            result.append(even_elements[even_idx])\n",
    "            even_idx += 1\n",
    "        else:\n",
    "            result.append(odd_elements[odd_idx])\n",
    "            odd_idx += 1\n",
    "    return result\n",
    "\n",
    "arr = [5, 3, 2, 8, 1, 4, 7, 6]\n",
    "print(sort_odd_even_indices(arr))\n"
   ]
  },
  {
   "cell_type": "markdown",
   "id": "c3a51db9",
   "metadata": {},
   "source": [
    "__________\n",
    "Write a program that will print the sum of diagonal elements of a 10X10 matrix. The program will take a total of 100 numbers as input (10 numbers will be input per line and each number will be separated by a space)."
   ]
  },
  {
   "cell_type": "code",
   "execution_count": 18,
   "id": "463d9829",
   "metadata": {},
   "outputs": [
    {
     "name": "stdout",
     "output_type": "stream",
     "text": [
      "[[1, 2, 3, 4, 5, 6, 7, 8, 9, 0], [0, 1, 2, 3, 4, 5, 6, 7, 8, 0], [3, 4, 5, 6, 7, 8, 9, 6, 4, 0], [2, 3, 4, 5, 6, 7, 8, 9, 3, 2], [3, 4, 5, 6, 7, 4, 3, 2, 1, 3], [3, 4, 5, 6, 2, 4, 4, 2, 4, 6], [2, 3, 4, 6, 2, 4, 6, 2, 3, 5], [2, 3, 5, 6, 2, 4, 6, 2, 3, 5], [2, 4, 6, 2, 1, 4, 3, 3, 5, 2], [3, 3, 5, 2, 4, 6, 2, 1, 4, 6]]\n",
      "42\n"
     ]
    }
   ],
   "source": [
    "L = []\n",
    "sum = 0\n",
    "for i in range(10):\n",
    "    arr = list(map(int,input().split()))\n",
    "    L.append(arr)\n",
    "    sum += L[i][i]\n",
    "print(L)\n",
    "print(sum)"
   ]
  },
  {
   "cell_type": "markdown",
   "id": "b26b6f2f",
   "metadata": {},
   "source": [
    "______________________\n",
    "Write a program to find out and display prime numbers from the given list of integers. The program will accept input in two lines. First-line contains a number indicating the total number of integers in the list and the second line contains integers separated by spaces."
   ]
  },
  {
   "cell_type": "code",
   "execution_count": 28,
   "id": "bb6ccc7d",
   "metadata": {},
   "outputs": [
    {
     "name": "stdout",
     "output_type": "stream",
     "text": [
      "3 7 11 2 17\n"
     ]
    }
   ],
   "source": [
    "def prime(n):\n",
    "    if n <= 1: return False\n",
    "    else: \n",
    "        for i in range(2,int(n**0.5)+1): \n",
    "            if i % 2 == 0: return False\n",
    "        return True\n",
    "n = int(input())\n",
    "nums = list(map(int, input().split()))\n",
    "primes = [x for x in nums if is_prime(x)]\n",
    "print(*primes)"
   ]
  },
  {
   "cell_type": "markdown",
   "id": "62ca4792",
   "metadata": {},
   "source": [
    "_________\n",
    "Write a program that will take a number as input. The program will convert the inputted number to a format, which will contain an integer part and a fraction part. The fraction part needs to be reduced to its lowest representation. The input will not contain any repeating decimals e.g. 1.3333…33. The output will be :"
   ]
  },
  {
   "cell_type": "code",
   "execution_count": 33,
   "id": "09579596",
   "metadata": {},
   "outputs": [
    {
     "name": "stdout",
     "output_type": "stream",
     "text": [
      "3 2/25\n"
     ]
    }
   ],
   "source": [
    "import math\n",
    "s=input()\n",
    "s1=\"\"\n",
    "idx=-1\n",
    "for i in range(len(s)):\n",
    "    if s[i]=='.':\n",
    "        idx=i\n",
    "    else:\n",
    "        s1+=s[i]\n",
    "a=int(s1)\n",
    "p=10**(len(s)-idx-1) if idx!=-1 else 1\n",
    "c=math.gcd(a,p)\n",
    "a//=c\n",
    "p//=c\n",
    "whole=a//p\n",
    "numer=a%p\n",
    "if numer==0:\n",
    "    print(whole)\n",
    "else:\n",
    "    print(f\"{whole} {numer}/{p}\")\n"
   ]
  },
  {
   "cell_type": "markdown",
   "id": "a643d273",
   "metadata": {},
   "source": [
    "_____________\n",
    "Given a sentence with numbers representing a word’s location in the sentence, embedded within each word, and return the sorted sentence. \n",
    "\n",
    "Note: We are using a maximum of 0-9 numbers only for 1 sentence "
   ]
  },
  {
   "cell_type": "code",
   "execution_count": 104,
   "id": "6b55d0e4",
   "metadata": {},
   "outputs": [
    {
     "name": "stdout",
     "output_type": "stream",
     "text": [
      "I want to join WonderBiz Technologies\n"
     ]
    }
   ],
   "source": [
    "words = input().split()\n",
    "nums = '1234567890'\n",
    "arr = [None]*len(words)\n",
    "for word in words:\n",
    "    for char in word:\n",
    "        if char in nums:\n",
    "            n = int(char)\n",
    "            n_word = word.replace(char,\"\")\n",
    "            arr[n] = n_word\n",
    "print(\" \".join(arr))"
   ]
  },
  {
   "cell_type": "markdown",
   "id": "5f61880d",
   "metadata": {},
   "source": [
    "_____\n",
    "Write a program that takes an integer M and M integer array elements as input. The program needs to find the minimum difference between two elements in the integer array. The program then needs to print all those pairs of elements that have the minimum difference. If more than one pair has the minimum difference, then the program should print the output in the ascending order, if an element exists in two or more pairs, then it should be printed two times or more."
   ]
  },
  {
   "cell_type": "code",
   "execution_count": 114,
   "id": "50c43c49",
   "metadata": {},
   "outputs": [
    {
     "name": "stdout",
     "output_type": "stream",
     "text": [
      "[1, 22, 44, 99, 1001]\n",
      "1 22\n"
     ]
    }
   ],
   "source": [
    "M = int(input())\n",
    "arr = list(map(int, input().split()))\n",
    "\n",
    "arr.sort()\n",
    "print(arr)\n",
    "min_diff = float('inf')\n",
    "pairs = []\n",
    "\n",
    "for i in range(1, M):\n",
    "    diff = arr[i] - arr[i - 1]\n",
    "    if diff < min_diff:\n",
    "        min_diff = diff\n",
    "        pairs = [(arr[i - 1], arr[i])]\n",
    "    elif diff == min_diff:\n",
    "        pairs.append((arr[i - 1], arr[i]))\n",
    "\n",
    "result = []\n",
    "for a, b in pairs:\n",
    "    result.append(a)\n",
    "    result.append(b)\n",
    "\n",
    "print(*result)\n"
   ]
  },
  {
   "cell_type": "markdown",
   "id": "6ea4cec8",
   "metadata": {},
   "source": [
    "________________\n",
    "Write a program to convert a number to binary format."
   ]
  },
  {
   "cell_type": "code",
   "execution_count": 119,
   "id": "481b84a4",
   "metadata": {},
   "outputs": [
    {
     "name": "stdout",
     "output_type": "stream",
     "text": [
      "1111111110001000\n"
     ]
    }
   ],
   "source": [
    "def to_binary(n):\n",
    "    print(bin(n)[2:])\n",
    "\n",
    "n = int(input())\n",
    "to_binary(n)"
   ]
  },
  {
   "cell_type": "markdown",
   "id": "c6be71b4",
   "metadata": {},
   "source": [
    "______________\n",
    "Write a program that receives a word A and some texts as input. You need to output the texts (without modifying them) in the ascending order of the number of occurrences of the word A in the texts. The input is as follows: an integer M(between 1 and 100, inclusive), followed by the word A in the next line, and some text in each of the M next lines.\n",
    "\n",
    "Note: The texts and the word A contain only lowercase Latin letters (a,b,c…,z) and blank spaces (“ ”). The maximum size of the texts and the word A is 100 Characters. Every text has a different number of occurrences of the word A.\n",
    "\n",
    "Note 2:you must print one text per line without modifying the texts."
   ]
  },
  {
   "cell_type": "code",
   "execution_count": 147,
   "id": "70f5c93d",
   "metadata": {},
   "outputs": [
    {
     "name": "stdout",
     "output_type": "stream",
     "text": [
      "I like to code in python\n",
      "I think python is good i think python is important than php\n",
      " python is named after a show name monty python and not after the snake python\n"
     ]
    }
   ],
   "source": [
    "n = int(input())\n",
    "w = input()\n",
    "words = [None]*n\n",
    "counts = {}\n",
    "for i in range(n):\n",
    "    words[i] = input()\n",
    "for word in words:\n",
    "    count = word.split().count(w)\n",
    "    counts[word] = count\n",
    "sorted_texts = sorted(counts.items(), key=lambda x: x[1])\n",
    "for text, c in sorted_texts:\n",
    "    print(text)"
   ]
  },
  {
   "cell_type": "markdown",
   "id": "3f6b874f",
   "metadata": {},
   "source": [
    "________\n",
    "Problem: Sort elements at odd indices in descending order and even indices in ascending order."
   ]
  },
  {
   "cell_type": "code",
   "execution_count": null,
   "id": "262e4a1c",
   "metadata": {},
   "outputs": [],
   "source": []
  },
  {
   "cell_type": "code",
   "execution_count": 169,
   "id": "ef573dca",
   "metadata": {},
   "outputs": [
    {
     "name": "stdout",
     "output_type": "stream",
     "text": [
      "abbbbbbbbbb"
     ]
    }
   ],
   "source": [
    "s = 'a1b10'\n",
    "nums = '0123456789'\n",
    "num = []\n",
    "letter = []\n",
    "i = 0\n",
    "\n",
    "n = ''\n",
    "for ch in s:\n",
    "    if ch in nums:\n",
    "        n += ch\n",
    "    else:\n",
    "        if n:\n",
    "            num.append(int(n))\n",
    "            n = ''\n",
    "        letter.append(ch)\n",
    "\n",
    "if n:\n",
    "    num.append(int(n))\n",
    "for i in range(len(letter)):\n",
    "    print(letter[i]*num[i],end=\"\")\n"
   ]
  },
  {
   "cell_type": "markdown",
   "id": "a75427b3",
   "metadata": {},
   "source": [
    "_____________\n",
    "Reverse Words in a Sentence"
   ]
  },
  {
   "cell_type": "code",
   "execution_count": 179,
   "id": "0f13dd74",
   "metadata": {},
   "outputs": [
    {
     "name": "stdout",
     "output_type": "stream",
     "text": [
      "dlroWolleH\n"
     ]
    }
   ],
   "source": [
    "str = 'HelloWorld'\n",
    "rev = ''\n",
    "for i in str:\n",
    "    rev = i+rev\n",
    "print(rev)"
   ]
  },
  {
   "cell_type": "markdown",
   "id": "a07d46d0",
   "metadata": {},
   "source": [
    "_______________\n",
    "Anagram Check"
   ]
  },
  {
   "cell_type": "code",
   "execution_count": 195,
   "id": "84f8ebd9",
   "metadata": {},
   "outputs": [
    {
     "name": "stdout",
     "output_type": "stream",
     "text": [
      "True\n",
      "False\n"
     ]
    }
   ],
   "source": [
    "def are_anagrams(str1, str2):\n",
    "    str1 = str1.replace(\" \", \"\").lower()\n",
    "    str2 = str2.replace(\" \", \"\").lower()\n",
    "    return sorted(str1) == sorted(str2)\n",
    "\n",
    "print(are_anagrams(\"listen\", \"silent\"))  # True\n",
    "print(are_anagrams(\"hello\", \"world\"))    # False\n"
   ]
  },
  {
   "cell_type": "markdown",
   "id": "cadcb500",
   "metadata": {},
   "source": [
    "__________\n",
    "Find the missing number in a given array containing 1 to N."
   ]
  },
  {
   "cell_type": "code",
   "execution_count": 210,
   "id": "e4cd0dc1",
   "metadata": {},
   "outputs": [
    {
     "name": "stdout",
     "output_type": "stream",
     "text": [
      "3\n"
     ]
    }
   ],
   "source": [
    "n = 5\n",
    "arr = [1, 2, 4, 5]\n",
    "ran = range(1,n+1)\n",
    "rann = list(ran)\n",
    "for i in rann:\n",
    "    if i not in arr:\n",
    "        print(i)"
   ]
  },
  {
   "cell_type": "code",
   "execution_count": 214,
   "id": "f0186221",
   "metadata": {},
   "outputs": [
    {
     "name": "stdout",
     "output_type": "stream",
     "text": [
      "3\n"
     ]
    }
   ],
   "source": [
    "def find_missing_number(arr, N):\n",
    "    return N * (N + 1) // 2 - sum(arr)\n",
    "\n",
    "arr = [1, 2, 4, 5]\n",
    "N = 5\n",
    "print(find_missing_number(arr, N))"
   ]
  },
  {
   "cell_type": "markdown",
   "id": "613b3f2b",
   "metadata": {},
   "source": [
    "________________\n",
    "Check Palindrome"
   ]
  },
  {
   "cell_type": "code",
   "execution_count": 226,
   "id": "bf80b65f",
   "metadata": {},
   "outputs": [
    {
     "name": "stdout",
     "output_type": "stream",
     "text": [
      "False\n"
     ]
    }
   ],
   "source": [
    "str = 'hello'\n",
    "new_str = ''\n",
    "for i in str:\n",
    "    new_str = i+new_str\n",
    "print(\"True\" if str == new_str else \"False\")"
   ]
  },
  {
   "cell_type": "markdown",
   "id": "0f5aa35d",
   "metadata": {},
   "source": [
    "____________\n",
    "Reverse words in a sentence"
   ]
  },
  {
   "cell_type": "code",
   "execution_count": null,
   "id": "694c7fed",
   "metadata": {},
   "outputs": [
    {
     "name": "stdout",
     "output_type": "stream",
     "text": [
      "ChatGPT from world Hello\n"
     ]
    }
   ],
   "source": [
    "def reverse_words(sentence):\n",
    "    return ' '.join(sentence.split()[::-1])\n",
    "\n",
    "print(reverse_words(\"Hello world from ChatGPT\"))\n"
   ]
  }
 ],
 "metadata": {
  "kernelspec": {
   "display_name": "Python 3",
   "language": "python",
   "name": "python3"
  },
  "language_info": {
   "codemirror_mode": {
    "name": "ipython",
    "version": 3
   },
   "file_extension": ".py",
   "mimetype": "text/x-python",
   "name": "python",
   "nbconvert_exporter": "python",
   "pygments_lexer": "ipython3",
   "version": "3.12.10"
  }
 },
 "nbformat": 4,
 "nbformat_minor": 5
}
