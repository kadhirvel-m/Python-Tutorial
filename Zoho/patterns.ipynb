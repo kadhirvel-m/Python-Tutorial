{
 "cells": [
  {
   "cell_type": "markdown",
   "id": "2d2989c5",
   "metadata": {},
   "source": [
    "Diamond pattern"
   ]
  },
  {
   "cell_type": "code",
   "execution_count": 6,
   "id": "dc689b87",
   "metadata": {},
   "outputs": [
    {
     "name": "stdout",
     "output_type": "stream",
     "text": [
      "     * \n",
      "    * * \n",
      "   * * * \n",
      "  * * * * \n",
      " * * * * * \n",
      " * * * * * \n",
      "  * * * * \n",
      "   * * * \n",
      "    * * \n",
      "     * \n"
     ]
    }
   ],
   "source": [
    "n = 5\n",
    "for i in range(1,n+1):\n",
    "    print(\" \"*(n-i),\"* \"*i)\n",
    "for j in range(n,0,-1):\n",
    "    print(\" \"*(n-j),\"* \"*j)"
   ]
  },
  {
   "cell_type": "markdown",
   "id": "3b6f8fba",
   "metadata": {},
   "source": [
    "________\n",
    "Given an array ms of positive integers of size N. Find all distinct digits present in ms."
   ]
  },
  {
   "cell_type": "code",
   "execution_count": null,
   "id": "d3a320f4",
   "metadata": {},
   "outputs": [],
   "source": [
    "class Solution:\n",
    "    def common_digits(self, ms):\n",
    "        digits = set()\n",
    "        for m in ms:\n",
    "            for ch in str(m):\n",
    "                digits.add(int(ch))\n",
    "        return sorted(digits)\n"
   ]
  },
  {
   "cell_type": "code",
   "execution_count": null,
   "id": "c7c75d8a",
   "metadata": {},
   "outputs": [
    {
     "name": "stdout",
     "output_type": "stream",
     "text": [
      "1 3 4 8\n"
     ]
    }
   ],
   "source": [
    "arr = [131, 11, 48]\n",
    "m = set()\n",
    "\n",
    "for i in arr:\n",
    "    for j in str(i):\n",
    "        m.add(int(j))\n",
    "m = sorted(m)\n",
    "print(*m)"
   ]
  },
  {
   "cell_type": "markdown",
   "id": "fdc3808c",
   "metadata": {},
   "source": [
    "_____\n",
    "Given an array arr[] of positive integers. Your task is to sort them so that the first part of the array contains odd numbers sorted in descending order, and the rest of the portion contains even numbers sorted in ascending order."
   ]
  },
  {
   "cell_type": "code",
   "execution_count": 8,
   "id": "d35b4bd1",
   "metadata": {},
   "outputs": [
    {
     "name": "stdout",
     "output_type": "stream",
     "text": [
      "[7, 5, 3, 1, 0, 2, 4]\n"
     ]
    }
   ],
   "source": [
    "arr = [0, 4, 5, 3, 7, 2, 1]\n",
    "odd = [x for x in arr if x%2==1]\n",
    "even = [x for x in arr if x%2==0]\n",
    "odd.sort(), even.sort()\n",
    "out = odd[::-1]+even\n",
    "print(out)"
   ]
  },
  {
   "cell_type": "markdown",
   "id": "707a4d13",
   "metadata": {},
   "source": [
    "________\n",
    "Given an amount, find the minimum number of notes of different denominations that sum up to the given amount. Starting from the highest denomination note, try to accommodate as many notes as possible for a given amount. We may assume that we have infinite supply of notes of values {2000, 500, 200, 100, 50, 20, 10, 5, 1} "
   ]
  },
  {
   "cell_type": "code",
   "execution_count": 9,
   "id": "bdb3c6cc",
   "metadata": {},
   "outputs": [
    {
     "name": "stdout",
     "output_type": "stream",
     "text": [
      "Currency  Count\n",
      "2000     : 1\n",
      "200      : 2\n",
      "50       : 1\n",
      "5        : 1\n",
      "1        : 1\n"
     ]
    }
   ],
   "source": [
    "def min_notes(amount):\n",
    "    denominations = [2000, 500, 200, 100, 50, 20, 10, 5, 1]\n",
    "    print(\"Currency  Count\")\n",
    "    for note in denominations:\n",
    "        if amount >= note:\n",
    "            count = amount // note\n",
    "            amount %= note\n",
    "            print(f\"{note:<8} : {count}\")\n",
    "\n",
    "min_notes(2456)"
   ]
  },
  {
   "cell_type": "markdown",
   "id": "33fd3282",
   "metadata": {},
   "source": [
    "________\n",
    "Given an array A[] of integers, sort the array according to frequency of elements. That is elements that have higher frequency come first. If frequencies of two elements are same, then smaller number comes first."
   ]
  },
  {
   "cell_type": "code",
   "execution_count": 10,
   "id": "f9f59a80",
   "metadata": {},
   "outputs": [
    {
     "name": "stdout",
     "output_type": "stream",
     "text": [
      "999 2 5\n"
     ]
    }
   ],
   "source": [
    "arr = [9, 9, 9, 2, 5]\n",
    "dict = {}\n",
    "new_arr = []\n",
    "for i in arr:\n",
    "    if i in dict:\n",
    "        dict[i] += 1\n",
    "    else:\n",
    "        dict[i] = 1\n",
    "for i,j in dict.items():\n",
    "    new_arr.append(str(i)*j)\n",
    "print(*new_arr)"
   ]
  },
  {
   "cell_type": "code",
   "execution_count": 11,
   "id": "1a5d44ba",
   "metadata": {},
   "outputs": [
    {
     "name": "stdout",
     "output_type": "stream",
     "text": [
      "4 4 5 5 6\n",
      "9 9 9 2 5\n"
     ]
    }
   ],
   "source": [
    "T = int(input())\n",
    "for _ in range(T):\n",
    "    N = int(input())\n",
    "    arr = list(map(int, input().split()))\n",
    "    dict = {}\n",
    "    new_arr = []\n",
    "\n",
    "    for i in arr:\n",
    "        if i in dict:\n",
    "            dict[i] += 1\n",
    "        else:\n",
    "            dict[i] = 1\n",
    "\n",
    "    for i, j in sorted(dict.items(), key=lambda x: (-x[1], x[0])):\n",
    "        new_arr.extend([i] * j)  \n",
    "    print(*new_arr)\n"
   ]
  },
  {
   "cell_type": "markdown",
   "id": "3dbdd9d4",
   "metadata": {},
   "source": [
    "____________\n",
    "Given two strings A and B, find if A is a subsequence of B.<br>\n",
    "A = AXY <br>\n",
    "B = YADXCP<br>\n",
    "Output: 0 <br>\n",
    "Explanation: A is not a subsequence of B as 'Y' appears before 'A'."
   ]
  },
  {
   "cell_type": "code",
   "execution_count": 18,
   "id": "4bf4a550",
   "metadata": {},
   "outputs": [],
   "source": [
    "def is_subsequence(A, B):\n",
    "    i = j = 0\n",
    "    while i < len(A) and j < len(B):\n",
    "        if A[i] == B[j]:\n",
    "            i += 1\n",
    "        j += 1\n",
    "    return 1 if i == len(A) else 0"
   ]
  },
  {
   "cell_type": "markdown",
   "id": "b30d309d",
   "metadata": {},
   "source": [
    "_______\n",
    "Program to print prime numbers from 1 to N."
   ]
  },
  {
   "cell_type": "code",
   "execution_count": 31,
   "id": "063cab9c",
   "metadata": {},
   "outputs": [
    {
     "name": "stdout",
     "output_type": "stream",
     "text": [
      "2 3 5 7 11 13 17 19 23 29 "
     ]
    }
   ],
   "source": [
    "def print_primes(N):\n",
    "    for num in range(2, N + 1):\n",
    "        for i in range(2, int(num**0.5) + 1):\n",
    "            if num % i == 0:\n",
    "                break\n",
    "        else:\n",
    "            print(num, end=' ')\n",
    "print_primes(30)"
   ]
  },
  {
   "cell_type": "markdown",
   "id": "cc37408d",
   "metadata": {},
   "source": [
    "________\n",
    "Prime factor – sort the array based on the minimum factor they have"
   ]
  },
  {
   "cell_type": "code",
   "execution_count": 32,
   "id": "3ba78553",
   "metadata": {},
   "outputs": [
    {
     "name": "stdout",
     "output_type": "stream",
     "text": [
      "[8, 10, 15, 7]\n"
     ]
    }
   ],
   "source": [
    "def smallest_prime_factor(n):\n",
    "    if n < 2:\n",
    "        return n \n",
    "    for i in range(2, int(n**0.5) + 1):\n",
    "        if n % i == 0:\n",
    "            return i\n",
    "    return n \n",
    "\n",
    "def sort_by_smallest_prime_factor(arr):\n",
    "    return sorted(arr, key=smallest_prime_factor)\n",
    "\n",
    "arr = [15, 8, 10, 7]\n",
    "sorted_arr = sort_by_smallest_prime_factor(arr)\n",
    "print(sorted_arr) \n"
   ]
  },
  {
   "cell_type": "markdown",
   "id": "10707554",
   "metadata": {},
   "source": [
    "_____________\n",
    "Given a number N. Check whether N is a Twisted Prime number or not."
   ]
  },
  {
   "cell_type": "code",
   "execution_count": 50,
   "id": "43586ece",
   "metadata": {},
   "outputs": [
    {
     "name": "stdout",
     "output_type": "stream",
     "text": [
      "1\n"
     ]
    }
   ],
   "source": [
    "def numReverse(n):\n",
    "    m = 0\n",
    "    while n > 0:\n",
    "        digit = n%10\n",
    "        m = m*10+digit\n",
    "        n = n//10\n",
    "    return m\n",
    "\n",
    "def ifPrime(m):\n",
    "    if m <2:\n",
    "        return 0\n",
    "    else:\n",
    "        for i in range(2,int(m**0.5)+1):\n",
    "            if m % i == 0:\n",
    "                return 0\n",
    "        return 1\n",
    "        \n",
    "print(ifPrime(numReverse(134))) "
   ]
  },
  {
   "cell_type": "markdown",
   "id": "356e4e71",
   "metadata": {},
   "source": [
    "________\n",
    "Given two numbers m and n as interval range, the task is to find the prime numbers in between this interval."
   ]
  },
  {
   "cell_type": "code",
   "execution_count": 23,
   "id": "d937d31b",
   "metadata": {},
   "outputs": [
    {
     "data": {
      "text/plain": [
       "0"
      ]
     },
     "execution_count": 23,
     "metadata": {},
     "output_type": "execute_result"
    }
   ],
   "source": [
    "def is_prime(m,n):\n",
    "    if m <2:\n",
    "        return 0\n",
    "    for num in range(m,n+1):\n",
    "        for i in range(2,int(num**0.5)+1):\n",
    "            if num % i == 0:\n",
    "                break\n",
    "        else:\n",
    "            print(num,end=\" \")\n",
    "is_prime(-10,20)"
   ]
  },
  {
   "cell_type": "markdown",
   "id": "26bbfe81",
   "metadata": {},
   "source": [
    "_______\n",
    "You have given two sorted arrays arr1[] & arr2[] of distinct elements. The first array has one element extra added in between. Return the index of the extra element."
   ]
  },
  {
   "cell_type": "code",
   "execution_count": 27,
   "id": "3de8d584",
   "metadata": {},
   "outputs": [
    {
     "name": "stdout",
     "output_type": "stream",
     "text": [
      "4\n"
     ]
    }
   ],
   "source": [
    "a = [2,4,6,8,9,10,12]\n",
    "b = [2,4,6,8,10,12]\n",
    "for i in a:\n",
    "    if i not in b:\n",
    "        print(a.index(i))"
   ]
  },
  {
   "cell_type": "markdown",
   "id": "ec274d0e",
   "metadata": {},
   "source": [
    "_______________\n",
    "Move All Zeroes to End"
   ]
  },
  {
   "cell_type": "code",
   "execution_count": 28,
   "id": "d2a160a2",
   "metadata": {},
   "outputs": [
    {
     "name": "stdout",
     "output_type": "stream",
     "text": [
      "[1, 2, 4, 3, 5, 0, 0, 0]\n"
     ]
    }
   ],
   "source": [
    "arr = [1, 2, 0, 4, 3, 0, 5, 0]\n",
    "z = []\n",
    "for i in arr:\n",
    "    if i == 0:\n",
    "        z.append(i)\n",
    "        arr.remove(i)\n",
    "arr += z\n",
    "print(arr)"
   ]
  },
  {
   "cell_type": "markdown",
   "id": "bb27610e",
   "metadata": {},
   "source": [
    "________\n",
    "You are given a sorted array consisting of only integers where every element appears exactly twice, except for one element which appears exactly once."
   ]
  },
  {
   "cell_type": "code",
   "execution_count": 30,
   "id": "eb9bee75",
   "metadata": {},
   "outputs": [
    {
     "name": "stdout",
     "output_type": "stream",
     "text": [
      "2\n"
     ]
    }
   ],
   "source": [
    "nums = [1,1,2,3,3,4,4,8,8]\n",
    "dict = {}\n",
    "for i in nums:\n",
    "    if i in dict: \n",
    "        dict[i] += 1\n",
    "    else:  \n",
    "        dict[i] =1\n",
    "for i,j in dict.items():\n",
    "    if j ==1:\n",
    "        print(i)"
   ]
  },
  {
   "cell_type": "markdown",
   "id": "ce96a31a",
   "metadata": {},
   "source": [
    "______\n",
    "Plus One"
   ]
  },
  {
   "cell_type": "code",
   "execution_count": 49,
   "id": "589e45c4",
   "metadata": {},
   "outputs": [
    {
     "name": "stdout",
     "output_type": "stream",
     "text": [
      "[1, 2, 4]\n"
     ]
    }
   ],
   "source": [
    "digits = [1,2,3]\n",
    "num = 0\n",
    "for i in digits:\n",
    "    num = num * 10 + i\n",
    "num += 1\n",
    "n = str(num)\n",
    "o = [int(x) for x in n]\n",
    "print(o)"
   ]
  },
  {
   "cell_type": "markdown",
   "id": "b11bae22",
   "metadata": {},
   "source": [
    "_______\n",
    "Delete the first digit and the closest non-digit character to its left."
   ]
  },
  {
   "cell_type": "code",
   "execution_count": 15,
   "id": "cc958113",
   "metadata": {},
   "outputs": [
    {
     "name": "stdout",
     "output_type": "stream",
     "text": [
      "[]\n"
     ]
    }
   ],
   "source": [
    "s = \"cb34\"\n",
    "s = list(s)\n",
    "i = 1  \n",
    "while i < len(s):\n",
    "    if s[i].isdigit():\n",
    "        del s[i]  \n",
    "        del s[i-1]  \n",
    "        i = max(i - 1, 1)  \n",
    "    else:\n",
    "        i += 1\n",
    "\n",
    "print(s)"
   ]
  },
  {
   "cell_type": "markdown",
   "id": "c1eb25f2",
   "metadata": {},
   "source": [
    "You are given a string s consisting of n characters which are either 'X' or 'O'.\n",
    "A move is defined as selecting three consecutive characters of s and converting them to 'O'. Note that if a move is applied to the character 'O', it will stay the same.\n",
    "Return the minimum number of moves required so that all the characters of s are converted to 'O'."
   ]
  },
  {
   "cell_type": "code",
   "execution_count": 49,
   "id": "5077c567",
   "metadata": {},
   "outputs": [
    {
     "name": "stdout",
     "output_type": "stream",
     "text": [
      "3\n"
     ]
    }
   ],
   "source": [
    "nums1 = [1,2,5]\n",
    "nums2 = [3,4]\n",
    "nums = nums1+nums2\n",
    "nums.sort()\n",
    "n = len(nums)\n",
    "if n%2==0:\n",
    "    i = n//2-1\n",
    "    print((nums[i]+nums[i+1])/2)\n",
    "else:\n",
    "    print(nums[n//2])"
   ]
  },
  {
   "cell_type": "markdown",
   "id": "f6811885",
   "metadata": {},
   "source": [
    "____________\n",
    "Count the number of possible triangles"
   ]
  },
  {
   "cell_type": "code",
   "execution_count": 53,
   "id": "a2169a5b",
   "metadata": {},
   "outputs": [
    {
     "name": "stdout",
     "output_type": "stream",
     "text": [
      "6\n"
     ]
    }
   ],
   "source": [
    "arr = [10, 21, 22, 100, 101, 200, 300]\n",
    "count = 0\n",
    "n = len(arr)\n",
    "\n",
    "for i in range(n):\n",
    "    for j in range(i + 1, n):\n",
    "        for k in range(j + 1, n):\n",
    "            a, b, c = arr[i], arr[j], arr[k]\n",
    "            if a + b > c and a + c > b and b + c > a:\n",
    "                count += 1\n",
    "\n",
    "print(count)\n"
   ]
  },
  {
   "cell_type": "markdown",
   "id": "3044993a",
   "metadata": {},
   "source": [
    "__________\n",
    "Palindrome without strings and arrays"
   ]
  },
  {
   "cell_type": "code",
   "execution_count": 2,
   "id": "695a82ba",
   "metadata": {},
   "outputs": [
    {
     "name": "stdout",
     "output_type": "stream",
     "text": [
      "4525\n"
     ]
    }
   ],
   "source": [
    "num = 5254\n",
    "n = 0\n",
    "\n",
    "if num == 0:\n",
    "    print(\"False\")\n",
    "else:\n",
    "    while num > 0:\n",
    "        digit = num%10\n",
    "        n = n*10+digit\n",
    "        num //= 10\n",
    "    print(n)\n"
   ]
  }
 ],
 "metadata": {
  "kernelspec": {
   "display_name": "Python 3",
   "language": "python",
   "name": "python3"
  },
  "language_info": {
   "codemirror_mode": {
    "name": "ipython",
    "version": 3
   },
   "file_extension": ".py",
   "mimetype": "text/x-python",
   "name": "python",
   "nbconvert_exporter": "python",
   "pygments_lexer": "ipython3",
   "version": "3.12.10"
  }
 },
 "nbformat": 4,
 "nbformat_minor": 5
}
