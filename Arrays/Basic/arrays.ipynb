{
 "cells": [
  {
   "cell_type": "markdown",
   "metadata": {},
   "source": [
    "##### Find Largest Number"
   ]
  },
  {
   "cell_type": "code",
   "execution_count": 25,
   "metadata": {},
   "outputs": [
    {
     "name": "stdout",
     "output_type": "stream",
     "text": [
      "99\n"
     ]
    }
   ],
   "source": [
    "numbers = [10, 25, 8, 99, 50]\n",
    "largest = 0\n",
    "for i in numbers:\n",
    "    if i > largest:\n",
    "        largest = i\n",
    "print(largest)"
   ]
  },
  {
   "cell_type": "code",
   "execution_count": 26,
   "metadata": {},
   "outputs": [
    {
     "name": "stdout",
     "output_type": "stream",
     "text": [
      "-1\n"
     ]
    }
   ],
   "source": [
    "numbers = [-5,-1,-4,-2]\n",
    "largest = float('-inf')\n",
    "for i in numbers:\n",
    "    if i > largest:\n",
    "        largest = i\n",
    "print(largest)"
   ]
  },
  {
   "cell_type": "markdown",
   "metadata": {},
   "source": [
    "____________"
   ]
  },
  {
   "cell_type": "markdown",
   "metadata": {},
   "source": [
    "##### Find Second Largest Number"
   ]
  },
  {
   "cell_type": "code",
   "execution_count": 27,
   "metadata": {},
   "outputs": [
    {
     "name": "stdout",
     "output_type": "stream",
     "text": [
      "77\n"
     ]
    }
   ],
   "source": [
    "numbers = [10, 25, 8, 99, 77, 50]\n",
    "largest = second_largest = float('-inf')\n",
    "for i in numbers:\n",
    "    if i > largest:\n",
    "        second_largest, largest = largest, i\n",
    "    elif i > second_largest and i != largest:\n",
    "        second_largest = i\n",
    "print(second_largest)"
   ]
  },
  {
   "cell_type": "markdown",
   "metadata": {},
   "source": [
    "`For numbers = [10, 25, 8, 99, 77, 50]`\n",
    "\n",
    "<span style=\"font-size: 14px;\">\n",
    "\n",
    "| Number | Largest | Second Largest | Action Taken             |\n",
    "|--------|---------|---------------|--------------------------|\n",
    "| 10     | 10      | -∞            | Update largest          |\n",
    "| 25     | 25      | 10            | Update both             |\n",
    "| 8      | 25      | 10            | No change               |\n",
    "| 99     | 99      | 25            | Update both             |\n",
    "| 77     | 99      | 77            | Update second_largest   |\n",
    "| 50     | 99      | 77            | No change               |\n",
    "\n",
    "</span>\n"
   ]
  },
  {
   "cell_type": "markdown",
   "metadata": {},
   "source": [
    "__________________"
   ]
  },
  {
   "cell_type": "markdown",
   "metadata": {},
   "source": [
    "##### Find max consecutive num"
   ]
  },
  {
   "cell_type": "code",
   "execution_count": 33,
   "metadata": {},
   "outputs": [
    {
     "name": "stdout",
     "output_type": "stream",
     "text": [
      "4\n"
     ]
    }
   ],
   "source": [
    "def max_consecutive(arr):\n",
    "    max_count = count = 0\n",
    "    for i in range(len(arr)):\n",
    "        if i == 0 or arr[i] == arr[i - 1]:\n",
    "            count += 1\n",
    "        else:\n",
    "            count = 1\n",
    "        max_count = max(max_count, count)\n",
    "    return max_count\n",
    "arr1 = [1, 1, 0, 0, 1, 0, 1, 0, 1, 1, 1, 1]\n",
    "print(max_consecutive(arr1)) "
   ]
  },
  {
   "cell_type": "markdown",
   "metadata": {},
   "source": [
    "_____________________"
   ]
  },
  {
   "cell_type": "markdown",
   "metadata": {},
   "source": [
    "##### Move all the zeros to end"
   ]
  },
  {
   "cell_type": "code",
   "execution_count": 42,
   "metadata": {},
   "outputs": [
    {
     "name": "stdout",
     "output_type": "stream",
     "text": [
      "[1, 4, 6, 3, 5, 2, 0, 0]\n"
     ]
    }
   ],
   "source": [
    "arr = [1,4,6,3,0,5,0,2]\n",
    "new_arr = []\n",
    "for i in arr:\n",
    "    if i != 0:\n",
    "        new_arr.append(i)\n",
    "final_arr = []\n",
    "for i in arr:\n",
    "    if i == 0:\n",
    "        final_arr.append(i)\n",
    "new_arr.extend(final_arr)\n",
    "print(new_arr)"
   ]
  },
  {
   "cell_type": "markdown",
   "metadata": {},
   "source": [
    "_________________________"
   ]
  },
  {
   "cell_type": "markdown",
   "metadata": {},
   "source": [
    "##### Reverse an Array in groups of given size\n",
    "- Input: [1, 2, 3, 4, 5, 6, 7, 8, 9], k = 3 \n",
    "    - Output: 3, 2, 1, 6, 5, 4, 9, 8, 7\n",
    "- Input:[1, 2, 3, 4, 5, 6, 7, 8], k = 5 \n",
    "    - Output: 5, 4, 3, 2, 1, 8, 7, 6"
   ]
  },
  {
   "cell_type": "code",
   "execution_count": 2,
   "metadata": {},
   "outputs": [
    {
     "name": "stdout",
     "output_type": "stream",
     "text": [
      "[3, 2, 1, 6, 5, 4, 9, 8, 7]\n"
     ]
    }
   ],
   "source": [
    "def group_reverse(arr, k):\n",
    "    n = len(arr)\n",
    "    for i in range(0, n, k):\n",
    "        arr[i:i+k] = arr[i:i+k][::-1]\n",
    "    return arr\n",
    "\n",
    "arr1 = [1, 2, 3, 4, 5, 6, 7, 8, 9]\n",
    "k1 = 3\n",
    "print(group_reverse(arr1, k1)) "
   ]
  },
  {
   "cell_type": "markdown",
   "metadata": {},
   "source": [
    "`Step-by-Step Reversal of Sublists`\n",
    "\n",
    "<span style=\"font-size: 14px;\">\n",
    "\n",
    "| Step  | i  | Sublist (arr[i:i+k]) | Reversed  | Modified List                   |\n",
    "|-------|----|----------------------|-----------|---------------------------------|\n",
    "| 1st   | 0  | [1, 2, 3]            | [3, 2, 1] | [3, 2, 1, 4, 5, 6, 7, 8, 9]    |\n",
    "| 2nd   | 3  | [4, 5, 6]            | [6, 5, 4] | [3, 2, 1, 6, 5, 4, 7, 8, 9]    |\n",
    "| 3rd   | 6  | [7, 8, 9]            | [9, 8, 7] | [3, 2, 1, 6, 5, 4, 9, 8, 7]    |\n",
    "\n",
    "</span>"
   ]
  },
  {
   "cell_type": "markdown",
   "metadata": {},
   "source": [
    "_____________________"
   ]
  },
  {
   "cell_type": "markdown",
   "metadata": {},
   "source": [
    "##### Rotare an Array"
   ]
  },
  {
   "cell_type": "code",
   "execution_count": 6,
   "metadata": {},
   "outputs": [
    {
     "name": "stdout",
     "output_type": "stream",
     "text": [
      "[3, 4, 5, 6, 1, 2]\n"
     ]
    }
   ],
   "source": [
    "def left_rotate(arr, d):\n",
    "    return arr[d:] + arr[:d]  \n",
    "\n",
    "arr1 = [1, 2, 3, 4, 5, 6]\n",
    "d1 = 2\n",
    "print(left_rotate(arr1, d1)) "
   ]
  },
  {
   "cell_type": "markdown",
   "metadata": {},
   "source": [
    "___________________"
   ]
  },
  {
   "cell_type": "markdown",
   "metadata": {},
   "source": [
    "##### Sum of array of digits"
   ]
  },
  {
   "cell_type": "code",
   "execution_count": 7,
   "metadata": {},
   "outputs": [
    {
     "name": "stdout",
     "output_type": "stream",
     "text": [
      "14\n"
     ]
    }
   ],
   "source": [
    "arr = [3,7,4]\n",
    "sum = 0\n",
    "for i in arr:\n",
    "    sum += i\n",
    "print(sum)"
   ]
  },
  {
   "cell_type": "markdown",
   "metadata": {},
   "source": [
    "##### Adding one to number represented as array of digits"
   ]
  },
  {
   "cell_type": "code",
   "execution_count": null,
   "metadata": {},
   "outputs": [
    {
     "name": "stdout",
     "output_type": "stream",
     "text": [
      "123\n"
     ]
    }
   ],
   "source": [
    "def int(arr):\n",
    "    num = 0\n",
    "    for i in arr:\n",
    "        num = num * 10 + i\n",
    "    return num\n",
    "\n",
    "arr = [1, 2, 3]\n",
    "print(int(arr))\n"
   ]
  },
  {
   "cell_type": "code",
   "execution_count": 10,
   "metadata": {},
   "outputs": [
    {
     "name": "stdout",
     "output_type": "stream",
     "text": [
      "123\n"
     ]
    }
   ],
   "source": [
    "def list_to_int(arr):\n",
    "    return int(\"\".join(map(str, arr)))\n",
    "\n",
    "arr = [1, 2, 3]\n",
    "print(list_to_int(arr)) \n"
   ]
  },
  {
   "cell_type": "markdown",
   "metadata": {},
   "source": [
    "__________________"
   ]
  },
  {
   "cell_type": "markdown",
   "metadata": {},
   "source": [
    "##### Stock Buy and Sell – Max one Transaction Allowed"
   ]
  },
  {
   "cell_type": "code",
   "execution_count": 1,
   "metadata": {},
   "outputs": [
    {
     "name": "stdout",
     "output_type": "stream",
     "text": [
      "8\n"
     ]
    }
   ],
   "source": [
    "def max_profit(prices):\n",
    "    min_price = float('inf')\n",
    "    max_profit = 0\n",
    "\n",
    "    for i in prices:\n",
    "        min_price = min(min_price, i)  \n",
    "        max_profit = max(max_profit, i - min_price) \n",
    "    return max_profit\n",
    "\n",
    "prices1 = [7, 10, 1, 3, 6, 9]\n",
    "print(max_profit(prices1)) "
   ]
  },
  {
   "cell_type": "markdown",
   "metadata": {},
   "source": [
    "\n",
    "<span style=\"font-size: 14px;\">\n",
    "\n",
    "| Price | Min Price So Far | Profit (If Sold Today) | Max Profit |\n",
    "|-------|-----------------|------------------------|------------|\n",
    "| 7     | 7               | 0                      | 0          |\n",
    "| 10    | 7               | 10 - 7 = 3             | 3          |\n",
    "| 1     | 1               | 1 - 1 = 0              | 3          |\n",
    "| 3     | 1               | 3 - 1 = 2              | 3          |\n",
    "| 6     | 1               | 6 - 1 = 5              | 5          |\n",
    "| 9     | 1               | 9 - 1 = 8              | 8          |\n",
    "| 2     | 1               | 2 - 1 = 1              | 8          |\n",
    "\n",
    "</span>"
   ]
  },
  {
   "cell_type": "markdown",
   "metadata": {},
   "source": [
    "__________"
   ]
  },
  {
   "cell_type": "markdown",
   "metadata": {},
   "source": [
    "##### Sum of digits of a number until sum becomes single digit"
   ]
  },
  {
   "cell_type": "code",
   "execution_count": 8,
   "metadata": {},
   "outputs": [
    {
     "name": "stdout",
     "output_type": "stream",
     "text": [
      "4\n"
     ]
    }
   ],
   "source": [
    "def sum_of_digits(n):\n",
    "    while n >= 10:  \n",
    "        temp = 0\n",
    "        while n > 0:\n",
    "            temp += n % 10 \n",
    "            n //= 10     \n",
    "        n = temp  \n",
    "    return n\n",
    "print(sum_of_digits(5674))"
   ]
  },
  {
   "cell_type": "markdown",
   "metadata": {},
   "source": [
    "___________"
   ]
  },
  {
   "cell_type": "markdown",
   "metadata": {},
   "source": [
    "##### Remove Duplicates from Sorted array"
   ]
  },
  {
   "cell_type": "code",
   "execution_count": null,
   "metadata": {},
   "outputs": [
    {
     "name": "stdout",
     "output_type": "stream",
     "text": [
      "[1, 2, 3, 4, 5]\n"
     ]
    }
   ],
   "source": [
    "def print_unique_elements(arr):\n",
    "    unique = []  \n",
    "    for num in arr:\n",
    "        if num not in unique:\n",
    "            unique.append(num)\n",
    "    print(unique)\n",
    "\n",
    "print_unique_elements([4, 2, 5, 2, 3, 1, 4, 5])\n"
   ]
  },
  {
   "cell_type": "code",
   "execution_count": 19,
   "metadata": {},
   "outputs": [
    {
     "name": "stdout",
     "output_type": "stream",
     "text": [
      "4\n",
      "2\n",
      "5\n",
      "1\n"
     ]
    }
   ],
   "source": [
    "arr = [4,2,5,5,2,1,4,5,1]\n",
    "unique = []\n",
    "for i in arr:\n",
    "    if i not in unique:\n",
    "        unique.append(i)\n",
    "        print(i)\n"
   ]
  },
  {
   "cell_type": "markdown",
   "metadata": {},
   "source": [
    "__________"
   ]
  },
  {
   "cell_type": "markdown",
   "metadata": {},
   "source": [
    "##### Alternate Positive Negative"
   ]
  },
  {
   "cell_type": "code",
   "execution_count": 7,
   "metadata": {},
   "outputs": [
    {
     "name": "stdout",
     "output_type": "stream",
     "text": [
      "[1, -4, 2, -1, 3, 4]\n"
     ]
    }
   ],
   "source": [
    "def rearrange_array(arr):\n",
    "    pos = [x for x in arr if x >= 0]  \n",
    "    neg = [x for x in arr if x < 0]   \n",
    "\n",
    "    result = []\n",
    "    i, j = 0, 0\n",
    "\n",
    "    while i < len(pos) and j < len(neg):\n",
    "        result.append(pos[i])\n",
    "        result.append(neg[j])\n",
    "        i += 1\n",
    "        j += 1\n",
    "\n",
    "    result.extend(pos[i:])\n",
    "    result.extend(neg[j:])\n",
    "    \n",
    "    return result\n",
    "\n",
    "arr1 = [1, 2, 3, -4, -1, 4]\n",
    "print(rearrange_array(arr1))  "
   ]
  },
  {
   "cell_type": "markdown",
   "metadata": {},
   "source": [
    "__________"
   ]
  },
  {
   "cell_type": "markdown",
   "metadata": {},
   "source": [
    "##### Leaders in an array"
   ]
  },
  {
   "cell_type": "code",
   "execution_count": 2,
   "metadata": {},
   "outputs": [
    {
     "name": "stdout",
     "output_type": "stream",
     "text": [
      "[17, 5, 2]\n"
     ]
    }
   ],
   "source": [
    "def find_leaders(arr):\n",
    "    leaders, max_right = [], arr[-1]\n",
    "    for num in reversed(arr):\n",
    "        if num >= max_right:\n",
    "            leaders.append(num)\n",
    "            max_right = num\n",
    "    return leaders[::-1]\n",
    "\n",
    "print(find_leaders([16, 17, 4, 3, 5, 2]))  "
   ]
  },
  {
   "cell_type": "markdown",
   "metadata": {},
   "source": [
    "<span style=\"font-size: 14px;\">\n",
    "\n",
    "Input: `[16, 17, 4, 3, 5, 2]`\n",
    "\n",
    "| Step | Current Element | max_right | Leaders (`leaders[]`) |\n",
    "|------|----------------|-----------|-----------------------|\n",
    "| 1    | 2 (last element) | 2         | [2]                  |\n",
    "| 2    | 5              | 5         | [2, 5]               |\n",
    "| 3    | 3              | 5         | [2, 5] (no change)   |\n",
    "| 4    | 4              | 5         | [2, 5] (no change)   |\n",
    "| 5    | 17             | 17        | [2, 5, 17]           |\n",
    "| 6    | 16             | 17        | [2, 5, 17] (no change) |\n",
    "\n",
    "</span>\n"
   ]
  },
  {
   "cell_type": "markdown",
   "metadata": {},
   "source": [
    "__________"
   ]
  }
 ],
 "metadata": {
  "kernelspec": {
   "display_name": "Python 3",
   "language": "python",
   "name": "python3"
  },
  "language_info": {
   "codemirror_mode": {
    "name": "ipython",
    "version": 3
   },
   "file_extension": ".py",
   "mimetype": "text/x-python",
   "name": "python",
   "nbconvert_exporter": "python",
   "pygments_lexer": "ipython3",
   "version": "3.12.9"
  }
 },
 "nbformat": 4,
 "nbformat_minor": 2
}
